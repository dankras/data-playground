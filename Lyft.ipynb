{
 "cells": [
  {
   "cell_type": "markdown",
   "metadata": {
    "collapsed": true
   },
   "source": [
    "# Lyft: Usage Patterns, Pricing, and Google Maps Accuracy\n",
    "\n",
    "This analysis was inspired by a 2013 [blog post](http://www.georgexing.com/200-lyft-rides-usage-patterns-and-pricing/) by [George Xing](https://twitter.com/g_xing). I've borrowed a lot of his [original code](https://github.com/george-xing/data-playground/) and methodology here.\n",
    "\n",
    "__What does this script do?__\n",
    "* Fetches and parses Lyft email receipts from your Gmail account \n",
    "* Fetches additional trip information via Google Maps API\n",
    "\n",
    "__The resulting dataset can then be used to...__\n",
    "* Generate usage pattern insights (e.g. ride frequency by day of week)\n",
    "* Check the accuracy of Google Maps' distance and duration estimates for your trips\n",
    "* Predict prices\n",
    "\n",
    "__Contact:__ [Dan Kras](mailto:dan.kras@gmail.com)\n",
    "\n",
    "Also Interesting: [pistats.io](https://pistats.io/)"
   ]
  },
  {
   "cell_type": "code",
   "execution_count": 1,
   "metadata": {
    "collapsed": false
   },
   "outputs": [],
   "source": [
    "import pandas as pd\n",
    "from scipy.stats import ttest_ind\n",
    "from googlemaps import Client as GoogleMaps\n",
    "import statsmodels.formula.api as sm\n",
    "import getpass\n",
    "import imaplib, email\n",
    "import re\n",
    "from datetime import datetime\n",
    "from time import mktime, strptime, struct_time\n",
    "import numpy as np\n",
    "import matplotlib.pyplot as plt\n",
    "%matplotlib inline"
   ]
  },
  {
   "cell_type": "markdown",
   "metadata": {
    "collapsed": true
   },
   "source": [
    "##Classes and Helper Functions"
   ]
  },
  {
   "cell_type": "code",
   "execution_count": 2,
   "metadata": {
    "collapsed": false
   },
   "outputs": [],
   "source": [
    "class Receipt:\n",
    "    ''' \n",
    "        Parses email receipt strings \n",
    "    '''\n",
    "    \n",
    "    def __init__(self, message):\n",
    "        for part in message.walk():\n",
    "            if part.get_content_type() == 'text/plain':\n",
    "                self.year = email.utils.parsedate_tz(message['Date'])[0]\n",
    "                self.email_text = part.get_payload()\n",
    "\n",
    "    def sanitized_text(self):\n",
    "        dirty_strings = ['=20', '=0A', '*']\n",
    "        temp_string = self.email_text\n",
    "        for s in dirty_strings:\n",
    "            temp_string = temp_string.replace(s, ' ')\n",
    "\n",
    "        return ' '.join(temp_string.replace('=\\r\\n', '').split())\n",
    "\n",
    "    def check_special_addresses(self, s):     \n",
    "        if s.find('Airport Access Rd, CA') != -1: # this address incorrectly maps to Oakland Airport\n",
    "            return 'San Francisco International Airport'\n",
    "        elif s.find('I-94, Chicago, IL 60622,') != -1: # clybourn metra stop in chicago \n",
    "            return '1658 W Cortland St, Chicago, IL 60622'            \n",
    "        else:\n",
    "            return s.replace('Unnamed Road,', '').replace('International Terminal Departures', '') # google maps cannot parse this address correctly\n",
    "\n",
    "    def get_start_location(self):\n",
    "        raw_start_loc = re.search('P\\s?i\\s?c\\s?k\\s?u\\s?p(.*):(.*)D\\s?r\\s?o\\s?p\\s?o\\s?f\\s?f', self.sanitized_text())\n",
    "        try:\n",
    "            return self.check_special_addresses(raw_start_loc.group(2).strip())\n",
    "        except ValueError:\n",
    "            return 'Bad start address string!'\n",
    "\n",
    "    def get_end_location(self):\n",
    "        raw_end_loc = re.search('D\\s?r\\s?o\\s?p\\s?o\\s?f\\s?f(.*?):(.*?)(USA|Lyft ride|Ride|Donation given|Donation:)', self.sanitized_text())\n",
    "        try:\n",
    "            return self.check_special_addresses(raw_end_loc.group(2).strip())\n",
    "        except ValueError:\n",
    "            return 'Bad end address string!'\n",
    "    \n",
    "    def is_split_fare(self):\n",
    "        return 'Split Fee:' in self.sanitized_text()\n",
    "        \n",
    "    def is_prime_time(self):\n",
    "        return \"Prime Time\" in self.sanitized_text()\n",
    "    \n",
    "    def get_tip(self):\n",
    "        raw_tip = re.search('Tip: \\$((?:\\d*\\.)?\\d+)', self.sanitized_text())\n",
    "        return (float(raw_tip.group(1).strip())) if raw_tip is not None else 0   \n",
    "    \n",
    "    def get_distance(self):\n",
    "        raw_distance = re.search('Ride ((?:\\d*\\.)?\\d+) mi', self.sanitized_text())\n",
    "        return float(raw_distance.group(1).strip()) if raw_distance is not None else np.nan\n",
    "    \n",
    "    def get_duration(self):\n",
    "        raw_duration = re.search('mi & ((?:\\d*\\.)?\\d+) min', self.sanitized_text())\n",
    "        return float(raw_duration.group(1).strip()) if raw_duration is not None else np.nan\n",
    "            \n",
    "    def get_bonus(self):\n",
    "        raw_bonus = re.search('Lyft Credits applied: - \\$(.*) Card', self.sanitized_text())\n",
    "        return int(float(raw_bonus.group(1))) if raw_bonus is not None else 0\n",
    "\n",
    "    def get_time(self):\n",
    "        '''\n",
    "            Example 1: \"Ride completed on September 22, 2012 at 7:02 PM Your Driver\"\n",
    "            Example 2: \"Ride completed on November 25 at 10:07 AM Your Driver\"\n",
    "            Example 3: \"Ride completed on December 13, 2012 Your Driver\"\n",
    "        '''\n",
    "\n",
    "        ## special hardcoded cases where timestamps are missing\n",
    "        if self.sanitized_text().find('Receipt #1013515411') != -1:\n",
    "            return datetime(2012, 12, 13, 10, 0, 0)\n",
    "        elif self.sanitized_text().find('Receipt #1381856898') != -1:\n",
    "            return datetime(2012, 12, 15, 10, 0, 0)\n",
    "        elif self.sanitized_text().find('Receipt #1738191832') != -1:\n",
    "            return datetime(2012, 12, 16, 1, 0, 0)\n",
    "        elif self.sanitized_text().find('Receipt #1528835456') != -1:\n",
    "            return datetime(2012, 12, 16, 13, 0, 0)\n",
    "\n",
    "        ## otherwise normal processing\n",
    "        raw_date = re.search(\"Ride completed on (.*) Your Driver\", self.sanitized_text())\n",
    "        if raw_date is not None:\n",
    "            raw_date_final = raw_date.group(1)\n",
    "            temp = \" \".join(raw_date_final.replace(\"at\",\" \").strip().split())\n",
    "\n",
    "            ## append year if not already there\n",
    "            if temp.find('2012') == -1:\n",
    "                temp = str(self.year) + ' ' + temp\n",
    "\n",
    "            ## try parsing with both formats\n",
    "            try:\n",
    "                t_struct1 = strptime(temp, '%Y %B %d %I:%M %p')\n",
    "            except ValueError:\n",
    "                t_struct1 = 'bad date string!'\n",
    "            try:\n",
    "                t_struct2 = strptime(temp, '%B %d, %Y %I:%M %p')\n",
    "            except ValueError:\n",
    "                t_struct2 = 'bad date string!'\n",
    "\n",
    "            ## return the appropriate struct\n",
    "            t_struct = t_struct1 if type(t_struct1) is struct_time else t_struct2\n",
    "\n",
    "        return datetime.fromtimestamp(mktime(t_struct))\n",
    "\n",
    "    def get_price(self):\n",
    "        '''\n",
    "            Example 1: \"Donation:\"\n",
    "            Example 2: \"Donation given to Tory:\"\n",
    "            Example 3: \"Lyft ride charges:\"\n",
    "            Example 4: \"Total charged to Visa ****:\"\n",
    "        '''\n",
    "\n",
    "        case1 = re.search('Donation( given)? to ([\\.\\s\\w]+): \\$(\\d+\\.\\d+)( Lyft Credits applied:\\s\\-\\s\\$\\d+\\.\\d+)? Card ending with', self.sanitized_text())\n",
    "        case2 = re.search('Lyft ride charges: \\$(.*)(Card ending with|Lyft Credits)', self.sanitized_text())\n",
    "        case3 = re.search('Donation: \\$(.*) Total', self.sanitized_text())\n",
    "        case4 = re.search('Total charged to ([^\\s]+) [0-9]+: \\$([^\\s]+)', self.sanitized_text())        \n",
    "\n",
    "        if case1 is not None:\n",
    "            return int(float(case1.group(3)))\n",
    "        elif case2 is not None:\n",
    "            return int(float(case2.group(1)))\n",
    "        elif case3 is not None:\n",
    "            return int(float(case3.group(1)))\n",
    "        elif case4 is not None:\n",
    "            return float(case4.group(2))\n",
    "\n",
    "    def to_ride(self):\n",
    "        return Ride(self.get_start_location(), \n",
    "                    self.get_end_location(), \n",
    "                    self.get_time(), \n",
    "                    self.get_price(), \n",
    "                    self.get_bonus(),\n",
    "                    self.sanitized_text(), \n",
    "                    self.is_split_fare(), \n",
    "                    self.is_prime_time(), \n",
    "                    self.get_distance(), \n",
    "                    self.get_duration(),\n",
    "                    self.get_tip())"
   ]
  },
  {
   "cell_type": "code",
   "execution_count": 3,
   "metadata": {
    "collapsed": true
   },
   "outputs": [],
   "source": [
    "class Ride:\n",
    "    '''\n",
    "        Encapsulates ride information. \n",
    "    '''\n",
    "    def __init__(self, loc_start, loc_end, time, price, bonus, receipt_text, is_split, is_prime_time, receipt_distance, receipt_duration, tip):\n",
    "        self.loc_start = loc_start      \n",
    "        self.loc_end = loc_end\n",
    "        self.coordinates_start = None\n",
    "        self.coordinates_end = None\n",
    "        self.time = time\n",
    "        self.price = price\n",
    "        self.bonus = bonus\n",
    "        self.google_payload_dict = None\n",
    "        self.distance_meters = None\n",
    "        self.total_duration_sec = None\n",
    "        self.receipt_text = receipt_text\n",
    "        self.is_split = is_split\n",
    "        self.is_prime_time = is_prime_time\n",
    "        self.receipt_distance = receipt_distance\n",
    "        self.receipt_duration = receipt_duration\n",
    "        self.tip = tip\n",
    "\n",
    "    def to_string(self):\n",
    "        s = 'Start: %(loc_start)s\\nEnd: %(loc_end)s\\nTime: %(time)s\\nPrice: %(price)f\\nBonus: %(bonus)d\\nDistance (m): %(distance)d\\nDuration (sec): %(duration)d' % \\\n",
    "        {\"loc_start\": self.loc_start, \"loc_end\": self.loc_end, \"time\": self.time, \"price\": self.price, \"bonus\": self.bonus, \"distance\": self.distance_meters, \"duration\": self.total_duration_sec}\n",
    "        return s\n",
    "\n",
    "    def set_gmaps_distance(self, GMAPS):\n",
    "        if not self.loc_start or not self.loc_end:\n",
    "            self.distance = 0\n",
    "        else:\n",
    "            self.set_gmaps_data(GMAPS.directions(self.loc_start, self.loc_end))\n",
    "        return self\n",
    "\n",
    "    def set_gmaps_data(self, payload):\n",
    "        self.google_payload_dict = payload[0]\n",
    "        legs_dict = self.google_payload_dict['legs'][0]\n",
    "        self.distance_meters = legs_dict['distance']['value']\n",
    "        self.loc_start = legs_dict['start_address']\n",
    "        self.loc_end = legs_dict['end_address']\n",
    "        self.coordinates_start = legs_dict['start_location']\n",
    "        self.coordinates_end = legs_dict['end_location']\n",
    "        self.total_duration_sec = legs_dict['duration']['value']              \n",
    "        return self"
   ]
  },
  {
   "cell_type": "code",
   "execution_count": 4,
   "metadata": {
    "collapsed": true
   },
   "outputs": [],
   "source": [
    "def connect_to_gmail(username, password):\n",
    "    mail = imaplib.IMAP4_SSL('imap.gmail.com', '993')\n",
    "    mail.login(username, password)\n",
    "    return mail"
   ]
  },
  {
   "cell_type": "code",
   "execution_count": 5,
   "metadata": {
    "collapsed": true
   },
   "outputs": [],
   "source": [
    "def fetch_receipts(mail, directory='[Gmail]/All Mail', search_type='FROM', search_text='no-reply@lyftmail.com'):\n",
    "    '''\n",
    "        Retrieves email receipts from 'no-reply@lyftmail.com' (or configured search_text), returns list\n",
    "        of Receipt objects.\n",
    "    '''\n",
    "    mail.select(directory)\n",
    "    search_command = '(' + str(search_type) + ' \"' + str(search_text) +  '\")'\n",
    "    response, message_ids = mail.search(None, search_command)\n",
    "    \n",
    "    receipts = []\n",
    "    \n",
    "    for msg_id in message_ids[0].split():\n",
    "        typ, msg_data = mail.fetch(msg_id, '(RFC822)')\n",
    "        msg = email.message_from_string(msg_data[0][1])\n",
    "        receipts.append(Receipt(msg))\n",
    "    \n",
    "    return receipts"
   ]
  },
  {
   "cell_type": "code",
   "execution_count": 6,
   "metadata": {
    "collapsed": true
   },
   "outputs": [],
   "source": [
    "def to_day_of_week(row):\n",
    "    '''Given row of dataframe, returns day of week based on timestamp field'''\n",
    "    days = {0 : 'Mon', 1 : 'Tue', 2 : 'Wed', 3 : 'Thurs', 4 : 'Fri', 5 : 'Sat', 6 : 'Sun'}\n",
    "    return days[row['timestamp'].dayofweek]\n",
    "\n",
    "def to_hour(row):\n",
    "    '''Given row of dataframe, returns hour of day based on timestamp field'''\n",
    "    return row['timestamp'].hour\n",
    "\n",
    "def to_miles(row):\n",
    "    '''given row of dataframe, converts distance in meters to distance in miles'''\n",
    "    METERS_PER_MILE = 1609.34\n",
    "    return row['gmaps_distance_m'] * 1.0 / METERS_PER_MILE\n",
    "\n",
    "def to_minutes(row):\n",
    "    '''given row of dataframe, converts duration in seconds to duration in minutes'''\n",
    "    SECONDS_PER_MINUTE = 60.0\n",
    "    return row['gmaps_duration_sec'] * 1.0 / SECONDS_PER_MINUTE"
   ]
  },
  {
   "cell_type": "code",
   "execution_count": 7,
   "metadata": {
    "collapsed": false
   },
   "outputs": [],
   "source": [
    "def predicted_price(miles, minutes, tip):\n",
    "    '''\n",
    "        Given a distance (in miles), a duration (in minutes), and a tip (in dollars) of a Lyft trip, \n",
    "        returns the predicted cost as per current (2/2/16) prices in Chicago\n",
    "        https://www.lyft.com/cities/chicago\n",
    "    '''\n",
    "    BASE = 1.71\n",
    "    TRUST_AND_SERVICE_FEE = 1.60\n",
    "    CITY_AND_ACCESSIBILITY_FEE = 0.50\n",
    "    PER_MILE = 0.90\n",
    "    PER_MIN = 0.22\n",
    "    \n",
    "    COST_MINIMUM = 3.00 #interestingly, lyft's cost minimum is less than their fixed costs...\n",
    "    #i.e. it will never be applied.\n",
    "    \n",
    "    fixed = BASE + TRUST_AND_SERVICE_FEE + CITY_AND_ACCESSIBILITY_FEE\n",
    "    variable = PER_MILE * miles + PER_MIN * minutes\n",
    "    \n",
    "    cost = fixed + variable\n",
    "    \n",
    "    if cost < COST_MINIMUM:\n",
    "        return COST_MINIMUM + tip\n",
    "    else:\n",
    "        return cost + tip"
   ]
  },
  {
   "cell_type": "markdown",
   "metadata": {
    "collapsed": true
   },
   "source": [
    "#Analysis"
   ]
  },
  {
   "cell_type": "code",
   "execution_count": 8,
   "metadata": {
    "collapsed": false
   },
   "outputs": [
    {
     "name": "stdout",
     "output_type": "stream",
     "text": [
      "connecting to gmail server...\n",
      "Gmail username: dan.kras\n",
      "········\n",
      "done.\n",
      "fetching lyft receipts...\n",
      "done.\n",
      "grabbing distances...\n",
      "done.\n",
      "generating data...\n",
      "done.\n"
     ]
    }
   ],
   "source": [
    "# connect to gmail server\n",
    "print 'connecting to gmail server...'\n",
    "username = raw_input(\"Gmail username: \")\n",
    "pw = getpass.getpass()\n",
    "mail = connect_to_gmail(username, pw)\n",
    "print 'done.'\n",
    "\n",
    "# fetch the relevant receipts\n",
    "print 'fetching lyft receipts...'\n",
    "receipts = fetch_receipts(mail)\n",
    "print 'done.'\n",
    "\n",
    "# parse ride data, grabbing distances from google maps\n",
    "print 'grabbing distances...'\n",
    "GOOGLE_API_KEY = open(\"google_maps_key.txt\", \"r\").read()\n",
    "GMAPS = GoogleMaps(GOOGLE_API_KEY)\n",
    "rides = []\n",
    "\n",
    "for receipt in receipts:\n",
    "    ride = receipt.to_ride().set_gmaps_distance(GMAPS)\n",
    "    rides.append(ride)\n",
    "\n",
    "print 'done.'\n",
    "\n",
    "# generate data frame\n",
    "print 'generating data...'\n",
    "data = {'timestamp' : [ride.time for ride in rides], \n",
    "        'start_address' : [ride.loc_start for ride in rides], \n",
    "        'end_address' : [ride.loc_end for ride in rides], \n",
    "        'gmaps_distance_m' : [ride.distance_meters for ride in rides], \n",
    "        'receipt_distance_mi' : [ride.receipt_distance for ride in rides],\n",
    "        'gmaps_duration_sec' : [ride.total_duration_sec for ride in rides], \n",
    "        'receipt_duration_min' : [ride.receipt_duration for ride in rides],\n",
    "        'predicted_price' : [predicted_price(ride.receipt_distance, ride.receipt_duration, ride.tip) for ride in rides],\n",
    "        'price_paid' : [ride.price for ride in rides], \n",
    "        'tip' : [ride.tip for ride in rides],\n",
    "        'is_split' : [ride.is_split for ride in rides],\n",
    "        'is_prime_time' : [ride.is_prime_time for ride in rides],\n",
    "        'start_lat' : [ride.coordinates_start['lat'] for ride in rides], \n",
    "        'start_long' : [ride.coordinates_start['lng'] for ride in rides], \n",
    "        'end_lat' : [ride.coordinates_end['lat'] for ride in rides], \n",
    "        'end_long' : [ride.coordinates_end['lng'] for ride in rides], \n",
    "        'bonus' : [ride.bonus for ride in rides], \n",
    "        'pretty_string' : [ride.to_string() for ride in rides], \n",
    "        'ride_obj' : [ride for ride in rides] }\n",
    "    \n",
    "rides_df = pd.DataFrame(data)\n",
    "\n",
    "# create some additional fields\n",
    "rides_df['day_of_week'] = rides_df.apply(lambda row : to_day_of_week(row), axis=1)\n",
    "rides_df['hour'] = rides_df.apply(lambda row : to_hour(row), axis=1)\n",
    "rides_df['gmaps_distance_mi'] = rides_df.apply(lambda row : to_miles(row), axis=1)\n",
    "rides_df['gmaps_duration_min'] = rides_df.apply(lambda row : to_minutes(row), axis=1)\n",
    "\n",
    "# more intuitive ordering of columns\n",
    "rides_df = rides_df[['timestamp', \n",
    "                     'day_of_week',\n",
    "                     'hour',\n",
    "                     'start_address', \n",
    "                     'end_address', \n",
    "                     'receipt_distance_mi',\n",
    "                     'gmaps_distance_mi',\n",
    "                     'receipt_duration_min', \n",
    "                     'gmaps_duration_min',\n",
    "                     'predicted_price',\n",
    "                     'price_paid', \n",
    "                     'tip', \n",
    "                     'is_split',\n",
    "                     'is_prime_time',\n",
    "                     'start_lat', \n",
    "                     'start_long', \n",
    "                     'end_lat', \n",
    "                     'end_long', \n",
    "                     'bonus', \n",
    "                     'pretty_string', \n",
    "                     'ride_obj']]\n",
    "\n",
    "print 'done.'"
   ]
  },
  {
   "cell_type": "code",
   "execution_count": 9,
   "metadata": {
    "collapsed": false
   },
   "outputs": [
    {
     "data": {
      "text/html": [
       "<div>\n",
       "<table border=\"1\" class=\"dataframe\">\n",
       "  <thead>\n",
       "    <tr style=\"text-align: right;\">\n",
       "      <th></th>\n",
       "      <th>timestamp</th>\n",
       "      <th>day_of_week</th>\n",
       "      <th>hour</th>\n",
       "      <th>start_address</th>\n",
       "      <th>end_address</th>\n",
       "      <th>receipt_distance_mi</th>\n",
       "      <th>gmaps_distance_mi</th>\n",
       "      <th>receipt_duration_min</th>\n",
       "      <th>gmaps_duration_min</th>\n",
       "      <th>predicted_price</th>\n",
       "      <th>price_paid</th>\n",
       "      <th>tip</th>\n",
       "      <th>is_split</th>\n",
       "      <th>is_prime_time</th>\n",
       "      <th>start_lat</th>\n",
       "      <th>start_long</th>\n",
       "      <th>end_lat</th>\n",
       "      <th>end_long</th>\n",
       "      <th>bonus</th>\n",
       "      <th>pretty_string</th>\n",
       "      <th>ride_obj</th>\n",
       "    </tr>\n",
       "  </thead>\n",
       "  <tbody>\n",
       "    <tr>\n",
       "      <th>0</th>\n",
       "      <td>2015-01-17 00:59:00</td>\n",
       "      <td>Sat</td>\n",
       "      <td>0</td>\n",
       "      <td>1644 N Leavitt St, Chicago, IL 60647, USA</td>\n",
       "      <td>149 W Hubbard St, Chicago, IL 60654, USA</td>\n",
       "      <td>3.7</td>\n",
       "      <td>3.718916</td>\n",
       "      <td>15</td>\n",
       "      <td>13.300000</td>\n",
       "      <td>11.44</td>\n",
       "      <td>3.98</td>\n",
       "      <td>1</td>\n",
       "      <td>True</td>\n",
       "      <td>False</td>\n",
       "      <td>41.911683</td>\n",
       "      <td>-87.682375</td>\n",
       "      <td>41.890010</td>\n",
       "      <td>-87.632443</td>\n",
       "      <td>0</td>\n",
       "      <td>Start: 1644 N Leavitt St, Chicago, IL 60647, U...</td>\n",
       "      <td>&lt;__main__.Ride instance at 0x1099ec050&gt;</td>\n",
       "    </tr>\n",
       "    <tr>\n",
       "      <th>1</th>\n",
       "      <td>2015-04-04 22:54:00</td>\n",
       "      <td>Sat</td>\n",
       "      <td>22</td>\n",
       "      <td>1644 N Leavitt St, Chicago, IL 60647, USA</td>\n",
       "      <td>1298 W Diversey Pkwy, Chicago, IL 60614, USA</td>\n",
       "      <td>2.8</td>\n",
       "      <td>2.547628</td>\n",
       "      <td>12</td>\n",
       "      <td>11.483333</td>\n",
       "      <td>10.97</td>\n",
       "      <td>6.48</td>\n",
       "      <td>2</td>\n",
       "      <td>True</td>\n",
       "      <td>True</td>\n",
       "      <td>41.911683</td>\n",
       "      <td>-87.682375</td>\n",
       "      <td>41.932509</td>\n",
       "      <td>-87.661127</td>\n",
       "      <td>0</td>\n",
       "      <td>Start: 1644 N Leavitt St, Chicago, IL 60647, U...</td>\n",
       "      <td>&lt;__main__.Ride instance at 0x1099d78c0&gt;</td>\n",
       "    </tr>\n",
       "    <tr>\n",
       "      <th>2</th>\n",
       "      <td>2015-04-05 02:07:00</td>\n",
       "      <td>Sun</td>\n",
       "      <td>2</td>\n",
       "      <td>807 W Belmont Ave, Chicago, IL 60657, USA</td>\n",
       "      <td>1628 N Honore St, Chicago, IL 60622, USA</td>\n",
       "      <td>4.2</td>\n",
       "      <td>3.245430</td>\n",
       "      <td>17</td>\n",
       "      <td>15.933333</td>\n",
       "      <td>12.33</td>\n",
       "      <td>6.27</td>\n",
       "      <td>1</td>\n",
       "      <td>True</td>\n",
       "      <td>False</td>\n",
       "      <td>41.939963</td>\n",
       "      <td>-87.649638</td>\n",
       "      <td>41.911448</td>\n",
       "      <td>-87.673828</td>\n",
       "      <td>0</td>\n",
       "      <td>Start: 807 W Belmont Ave, Chicago, IL 60657, U...</td>\n",
       "      <td>&lt;__main__.Ride instance at 0x1099f8b48&gt;</td>\n",
       "    </tr>\n",
       "    <tr>\n",
       "      <th>3</th>\n",
       "      <td>2015-07-19 03:18:00</td>\n",
       "      <td>Sun</td>\n",
       "      <td>3</td>\n",
       "      <td>99 Essex St, New York, NY 10002, USA</td>\n",
       "      <td>923 Pacific St, Brooklyn, NY 11238, USA</td>\n",
       "      <td>4.3</td>\n",
       "      <td>4.181839</td>\n",
       "      <td>21</td>\n",
       "      <td>20.233333</td>\n",
       "      <td>14.30</td>\n",
       "      <td>14.28</td>\n",
       "      <td>2</td>\n",
       "      <td>True</td>\n",
       "      <td>True</td>\n",
       "      <td>40.719010</td>\n",
       "      <td>-73.987980</td>\n",
       "      <td>40.680161</td>\n",
       "      <td>-73.963859</td>\n",
       "      <td>0</td>\n",
       "      <td>Start: 99 Essex St, New York, NY 10002, USA\\nE...</td>\n",
       "      <td>&lt;__main__.Ride instance at 0x109a04e60&gt;</td>\n",
       "    </tr>\n",
       "    <tr>\n",
       "      <th>4</th>\n",
       "      <td>2015-08-01 23:57:00</td>\n",
       "      <td>Sat</td>\n",
       "      <td>23</td>\n",
       "      <td>1279 S Michigan Ave, Chicago, IL 60605, USA</td>\n",
       "      <td>1635 N Honore St, Chicago, IL 60622, USA</td>\n",
       "      <td>6.7</td>\n",
       "      <td>5.079722</td>\n",
       "      <td>27</td>\n",
       "      <td>15.616667</td>\n",
       "      <td>20.78</td>\n",
       "      <td>27.49</td>\n",
       "      <td>5</td>\n",
       "      <td>False</td>\n",
       "      <td>True</td>\n",
       "      <td>41.866108</td>\n",
       "      <td>-87.624103</td>\n",
       "      <td>41.911598</td>\n",
       "      <td>-87.673831</td>\n",
       "      <td>0</td>\n",
       "      <td>Start: 1279 S Michigan Ave, Chicago, IL 60605,...</td>\n",
       "      <td>&lt;__main__.Ride instance at 0x109a04ea8&gt;</td>\n",
       "    </tr>\n",
       "  </tbody>\n",
       "</table>\n",
       "</div>"
      ],
      "text/plain": [
       "            timestamp day_of_week  hour  \\\n",
       "0 2015-01-17 00:59:00         Sat     0   \n",
       "1 2015-04-04 22:54:00         Sat    22   \n",
       "2 2015-04-05 02:07:00         Sun     2   \n",
       "3 2015-07-19 03:18:00         Sun     3   \n",
       "4 2015-08-01 23:57:00         Sat    23   \n",
       "\n",
       "                                 start_address  \\\n",
       "0    1644 N Leavitt St, Chicago, IL 60647, USA   \n",
       "1    1644 N Leavitt St, Chicago, IL 60647, USA   \n",
       "2    807 W Belmont Ave, Chicago, IL 60657, USA   \n",
       "3         99 Essex St, New York, NY 10002, USA   \n",
       "4  1279 S Michigan Ave, Chicago, IL 60605, USA   \n",
       "\n",
       "                                    end_address  receipt_distance_mi  \\\n",
       "0      149 W Hubbard St, Chicago, IL 60654, USA                  3.7   \n",
       "1  1298 W Diversey Pkwy, Chicago, IL 60614, USA                  2.8   \n",
       "2      1628 N Honore St, Chicago, IL 60622, USA                  4.2   \n",
       "3       923 Pacific St, Brooklyn, NY 11238, USA                  4.3   \n",
       "4      1635 N Honore St, Chicago, IL 60622, USA                  6.7   \n",
       "\n",
       "   gmaps_distance_mi  receipt_duration_min  gmaps_duration_min  \\\n",
       "0           3.718916                    15           13.300000   \n",
       "1           2.547628                    12           11.483333   \n",
       "2           3.245430                    17           15.933333   \n",
       "3           4.181839                    21           20.233333   \n",
       "4           5.079722                    27           15.616667   \n",
       "\n",
       "   predicted_price  price_paid  tip is_split is_prime_time  start_lat  \\\n",
       "0            11.44        3.98    1     True         False  41.911683   \n",
       "1            10.97        6.48    2     True          True  41.911683   \n",
       "2            12.33        6.27    1     True         False  41.939963   \n",
       "3            14.30       14.28    2     True          True  40.719010   \n",
       "4            20.78       27.49    5    False          True  41.866108   \n",
       "\n",
       "   start_long    end_lat   end_long  bonus  \\\n",
       "0  -87.682375  41.890010 -87.632443      0   \n",
       "1  -87.682375  41.932509 -87.661127      0   \n",
       "2  -87.649638  41.911448 -87.673828      0   \n",
       "3  -73.987980  40.680161 -73.963859      0   \n",
       "4  -87.624103  41.911598 -87.673831      0   \n",
       "\n",
       "                                       pretty_string  \\\n",
       "0  Start: 1644 N Leavitt St, Chicago, IL 60647, U...   \n",
       "1  Start: 1644 N Leavitt St, Chicago, IL 60647, U...   \n",
       "2  Start: 807 W Belmont Ave, Chicago, IL 60657, U...   \n",
       "3  Start: 99 Essex St, New York, NY 10002, USA\\nE...   \n",
       "4  Start: 1279 S Michigan Ave, Chicago, IL 60605,...   \n",
       "\n",
       "                                  ride_obj  \n",
       "0  <__main__.Ride instance at 0x1099ec050>  \n",
       "1  <__main__.Ride instance at 0x1099d78c0>  \n",
       "2  <__main__.Ride instance at 0x1099f8b48>  \n",
       "3  <__main__.Ride instance at 0x109a04e60>  \n",
       "4  <__main__.Ride instance at 0x109a04ea8>  "
      ]
     },
     "execution_count": 9,
     "metadata": {},
     "output_type": "execute_result"
    }
   ],
   "source": [
    "# sample of data\n",
    "pd.set_option('display.max_columns', None)\n",
    "rides_df.head()"
   ]
  },
  {
   "cell_type": "code",
   "execution_count": 10,
   "metadata": {
    "collapsed": false
   },
   "outputs": [
    {
     "data": {
      "text/html": [
       "<div>\n",
       "<table border=\"1\" class=\"dataframe\">\n",
       "  <thead>\n",
       "    <tr style=\"text-align: right;\">\n",
       "      <th></th>\n",
       "      <th>hour</th>\n",
       "      <th>receipt_distance_mi</th>\n",
       "      <th>gmaps_distance_mi</th>\n",
       "      <th>receipt_duration_min</th>\n",
       "      <th>gmaps_duration_min</th>\n",
       "      <th>predicted_price</th>\n",
       "      <th>price_paid</th>\n",
       "      <th>tip</th>\n",
       "      <th>is_split</th>\n",
       "      <th>is_prime_time</th>\n",
       "      <th>start_lat</th>\n",
       "      <th>start_long</th>\n",
       "      <th>end_lat</th>\n",
       "      <th>end_long</th>\n",
       "      <th>bonus</th>\n",
       "    </tr>\n",
       "  </thead>\n",
       "  <tbody>\n",
       "    <tr>\n",
       "      <th>count</th>\n",
       "      <td>32.000000</td>\n",
       "      <td>32.000000</td>\n",
       "      <td>32.000000</td>\n",
       "      <td>32.000000</td>\n",
       "      <td>32.000000</td>\n",
       "      <td>32.000000</td>\n",
       "      <td>32.000000</td>\n",
       "      <td>32.000000</td>\n",
       "      <td>32</td>\n",
       "      <td>32</td>\n",
       "      <td>32.000000</td>\n",
       "      <td>32.000000</td>\n",
       "      <td>32.000000</td>\n",
       "      <td>32.000000</td>\n",
       "      <td>32</td>\n",
       "    </tr>\n",
       "    <tr>\n",
       "      <th>mean</th>\n",
       "      <td>10.968750</td>\n",
       "      <td>3.098750</td>\n",
       "      <td>3.093329</td>\n",
       "      <td>14.062500</td>\n",
       "      <td>10.820312</td>\n",
       "      <td>10.442625</td>\n",
       "      <td>10.630000</td>\n",
       "      <td>0.750000</td>\n",
       "      <td>0.125</td>\n",
       "      <td>0.21875</td>\n",
       "      <td>41.870519</td>\n",
       "      <td>-87.239737</td>\n",
       "      <td>41.859148</td>\n",
       "      <td>-87.220881</td>\n",
       "      <td>0</td>\n",
       "    </tr>\n",
       "    <tr>\n",
       "      <th>std</th>\n",
       "      <td>6.291235</td>\n",
       "      <td>0.907971</td>\n",
       "      <td>0.726519</td>\n",
       "      <td>4.832267</td>\n",
       "      <td>2.861322</td>\n",
       "      <td>2.459751</td>\n",
       "      <td>4.133492</td>\n",
       "      <td>1.016001</td>\n",
       "      <td>0.3360108</td>\n",
       "      <td>0.4200134</td>\n",
       "      <td>0.210477</td>\n",
       "      <td>2.418219</td>\n",
       "      <td>0.215567</td>\n",
       "      <td>2.419183</td>\n",
       "      <td>0</td>\n",
       "    </tr>\n",
       "    <tr>\n",
       "      <th>min</th>\n",
       "      <td>0.000000</td>\n",
       "      <td>0.600000</td>\n",
       "      <td>0.539973</td>\n",
       "      <td>2.000000</td>\n",
       "      <td>2.583333</td>\n",
       "      <td>4.790000</td>\n",
       "      <td>3.980000</td>\n",
       "      <td>0.000000</td>\n",
       "      <td>False</td>\n",
       "      <td>False</td>\n",
       "      <td>40.719010</td>\n",
       "      <td>-87.682375</td>\n",
       "      <td>40.680161</td>\n",
       "      <td>-87.682375</td>\n",
       "      <td>0</td>\n",
       "    </tr>\n",
       "    <tr>\n",
       "      <th>25%</th>\n",
       "      <td>9.000000</td>\n",
       "      <td>2.822500</td>\n",
       "      <td>3.043328</td>\n",
       "      <td>11.750000</td>\n",
       "      <td>9.750000</td>\n",
       "      <td>9.394000</td>\n",
       "      <td>9.297500</td>\n",
       "      <td>0.000000</td>\n",
       "      <td>0</td>\n",
       "      <td>0</td>\n",
       "      <td>41.910556</td>\n",
       "      <td>-87.673832</td>\n",
       "      <td>41.889927</td>\n",
       "      <td>-87.663373</td>\n",
       "      <td>0</td>\n",
       "    </tr>\n",
       "    <tr>\n",
       "      <th>50%</th>\n",
       "      <td>9.000000</td>\n",
       "      <td>3.005000</td>\n",
       "      <td>3.132961</td>\n",
       "      <td>14.000000</td>\n",
       "      <td>10.216667</td>\n",
       "      <td>10.010000</td>\n",
       "      <td>9.770000</td>\n",
       "      <td>1.000000</td>\n",
       "      <td>0</td>\n",
       "      <td>0</td>\n",
       "      <td>41.911382</td>\n",
       "      <td>-87.673827</td>\n",
       "      <td>41.889927</td>\n",
       "      <td>-87.638622</td>\n",
       "      <td>0</td>\n",
       "    </tr>\n",
       "    <tr>\n",
       "      <th>75%</th>\n",
       "      <td>9.750000</td>\n",
       "      <td>3.200000</td>\n",
       "      <td>3.184069</td>\n",
       "      <td>16.250000</td>\n",
       "      <td>10.645833</td>\n",
       "      <td>10.987500</td>\n",
       "      <td>11.205000</td>\n",
       "      <td>1.000000</td>\n",
       "      <td>0</td>\n",
       "      <td>0</td>\n",
       "      <td>41.911660</td>\n",
       "      <td>-87.673133</td>\n",
       "      <td>41.911398</td>\n",
       "      <td>-87.638262</td>\n",
       "      <td>0</td>\n",
       "    </tr>\n",
       "    <tr>\n",
       "      <th>max</th>\n",
       "      <td>23.000000</td>\n",
       "      <td>6.700000</td>\n",
       "      <td>5.079722</td>\n",
       "      <td>27.000000</td>\n",
       "      <td>20.233333</td>\n",
       "      <td>20.780000</td>\n",
       "      <td>27.490000</td>\n",
       "      <td>5.000000</td>\n",
       "      <td>True</td>\n",
       "      <td>True</td>\n",
       "      <td>41.939963</td>\n",
       "      <td>-73.987980</td>\n",
       "      <td>41.932509</td>\n",
       "      <td>-73.963859</td>\n",
       "      <td>0</td>\n",
       "    </tr>\n",
       "  </tbody>\n",
       "</table>\n",
       "</div>"
      ],
      "text/plain": [
       "            hour  receipt_distance_mi  gmaps_distance_mi  \\\n",
       "count  32.000000            32.000000          32.000000   \n",
       "mean   10.968750             3.098750           3.093329   \n",
       "std     6.291235             0.907971           0.726519   \n",
       "min     0.000000             0.600000           0.539973   \n",
       "25%     9.000000             2.822500           3.043328   \n",
       "50%     9.000000             3.005000           3.132961   \n",
       "75%     9.750000             3.200000           3.184069   \n",
       "max    23.000000             6.700000           5.079722   \n",
       "\n",
       "       receipt_duration_min  gmaps_duration_min  predicted_price  price_paid  \\\n",
       "count             32.000000           32.000000        32.000000   32.000000   \n",
       "mean              14.062500           10.820312        10.442625   10.630000   \n",
       "std                4.832267            2.861322         2.459751    4.133492   \n",
       "min                2.000000            2.583333         4.790000    3.980000   \n",
       "25%               11.750000            9.750000         9.394000    9.297500   \n",
       "50%               14.000000           10.216667        10.010000    9.770000   \n",
       "75%               16.250000           10.645833        10.987500   11.205000   \n",
       "max               27.000000           20.233333        20.780000   27.490000   \n",
       "\n",
       "             tip   is_split is_prime_time  start_lat  start_long    end_lat  \\\n",
       "count  32.000000         32            32  32.000000   32.000000  32.000000   \n",
       "mean    0.750000      0.125       0.21875  41.870519  -87.239737  41.859148   \n",
       "std     1.016001  0.3360108     0.4200134   0.210477    2.418219   0.215567   \n",
       "min     0.000000      False         False  40.719010  -87.682375  40.680161   \n",
       "25%     0.000000          0             0  41.910556  -87.673832  41.889927   \n",
       "50%     1.000000          0             0  41.911382  -87.673827  41.889927   \n",
       "75%     1.000000          0             0  41.911660  -87.673133  41.911398   \n",
       "max     5.000000       True          True  41.939963  -73.987980  41.932509   \n",
       "\n",
       "        end_long  bonus  \n",
       "count  32.000000     32  \n",
       "mean  -87.220881      0  \n",
       "std     2.419183      0  \n",
       "min   -87.682375      0  \n",
       "25%   -87.663373      0  \n",
       "50%   -87.638622      0  \n",
       "75%   -87.638262      0  \n",
       "max   -73.963859      0  "
      ]
     },
     "execution_count": 10,
     "metadata": {},
     "output_type": "execute_result"
    }
   ],
   "source": [
    "# descriptive stats\n",
    "rides_df.describe()"
   ]
  },
  {
   "cell_type": "code",
   "execution_count": 11,
   "metadata": {
    "collapsed": false
   },
   "outputs": [
    {
     "name": "stdout",
     "output_type": "stream",
     "text": [
      "Fri      7\n",
      "Mon      6\n",
      "Tue      5\n",
      "Sat      4\n",
      "Wed      4\n",
      "Sun      3\n",
      "Thurs    3\n",
      "dtype: int64\n"
     ]
    },
    {
     "data": {
      "text/plain": [
       "<matplotlib.text.Text at 0x109b28790>"
      ]
     },
     "execution_count": 11,
     "metadata": {},
     "output_type": "execute_result"
    },
    {
     "data": {
      "image/png": "[encoded data removed]",
      "text/plain": [
       "<matplotlib.figure.Figure at 0x10987dd50>"
      ]
     },
     "metadata": {},
     "output_type": "display_data"
    }
   ],
   "source": [
    "# frequency by day of week\n",
    "print rides_df.day_of_week.value_counts()\n",
    "dow_frequency_plt = rides_df.day_of_week.value_counts().plot(kind='bar', title = 'Ride Frequency by Day of Week')\n",
    "dow_frequency_plt.set_ylabel('Ride Frequency')"
   ]
  },
  {
   "cell_type": "code",
   "execution_count": 12,
   "metadata": {
    "collapsed": false,
    "scrolled": true
   },
   "outputs": [
    {
     "name": "stdout",
     "output_type": "stream",
     "text": [
      "9     19\n",
      "23     2\n",
      "22     2\n",
      "21     2\n",
      "3      2\n",
      "20     1\n",
      "12     1\n",
      "8      1\n",
      "2      1\n",
      "0      1\n",
      "dtype: int64\n"
     ]
    },
    {
     "data": {
      "text/plain": [
       "<matplotlib.text.Text at 0x10bf18050>"
      ]
     },
     "execution_count": 12,
     "metadata": {},
     "output_type": "execute_result"
    },
    {
     "data": {
      "image/png": "[encoded data removed]",
      "text/plain": [
       "<matplotlib.figure.Figure at 0x10987db90>"
      ]
     },
     "metadata": {},
     "output_type": "display_data"
    }
   ],
   "source": [
    "# frequency by hour\n",
    "print rides_df.hour.value_counts()\n",
    "hour_histogram = rides_df.hour.hist(bins=24)\n",
    "hour_histogram.set_xlabel('Hour of Day (24 hour)')\n",
    "hour_histogram.set_ylabel('Ride Frequency')\n",
    "hour_histogram.set_title('Ride Frequency by Hour of Day')"
   ]
  },
  {
   "cell_type": "markdown",
   "metadata": {},
   "source": [
    "__Accuracy of Google Maps__\n",
    "* Difference between actual ride distance in miles (as per receipt) vs. Google Maps estimated ride distance in miles\n",
    "* Negative = Google underestimated (actual distance > estimated distance)\n",
    "* Positive = Google overestimated (actual distance < estimated distance)"
   ]
  },
  {
   "cell_type": "code",
   "execution_count": 14,
   "metadata": {
    "collapsed": false
   },
   "outputs": [
    {
     "data": {
      "text/html": [
       "<div>\n",
       "<table border=\"1\" class=\"dataframe\">\n",
       "  <thead>\n",
       "    <tr style=\"text-align: right;\">\n",
       "      <th></th>\n",
       "      <th>gmaps_distance_mi</th>\n",
       "      <th>receipt_distance_mi</th>\n",
       "      <th>gmaps_duration_min</th>\n",
       "      <th>receipt_duration_min</th>\n",
       "      <th>distance_diff_mi</th>\n",
       "      <th>duration_diff_min</th>\n",
       "    </tr>\n",
       "  </thead>\n",
       "  <tbody>\n",
       "    <tr>\n",
       "      <th>count</th>\n",
       "      <td>32.000000</td>\n",
       "      <td>32.000000</td>\n",
       "      <td>32.000000</td>\n",
       "      <td>32.000000</td>\n",
       "      <td>32.000000</td>\n",
       "      <td>32.000000</td>\n",
       "    </tr>\n",
       "    <tr>\n",
       "      <th>mean</th>\n",
       "      <td>3.093329</td>\n",
       "      <td>3.098750</td>\n",
       "      <td>10.820312</td>\n",
       "      <td>14.062500</td>\n",
       "      <td>-0.005421</td>\n",
       "      <td>-3.242188</td>\n",
       "    </tr>\n",
       "    <tr>\n",
       "      <th>std</th>\n",
       "      <td>0.726519</td>\n",
       "      <td>0.907971</td>\n",
       "      <td>2.861322</td>\n",
       "      <td>4.832267</td>\n",
       "      <td>0.464422</td>\n",
       "      <td>4.126071</td>\n",
       "    </tr>\n",
       "    <tr>\n",
       "      <th>min</th>\n",
       "      <td>0.539973</td>\n",
       "      <td>0.600000</td>\n",
       "      <td>2.583333</td>\n",
       "      <td>2.000000</td>\n",
       "      <td>-1.620278</td>\n",
       "      <td>-12.183333</td>\n",
       "    </tr>\n",
       "    <tr>\n",
       "      <th>25%</th>\n",
       "      <td>3.043328</td>\n",
       "      <td>2.822500</td>\n",
       "      <td>9.750000</td>\n",
       "      <td>11.750000</td>\n",
       "      <td>-0.132979</td>\n",
       "      <td>-5.254167</td>\n",
       "    </tr>\n",
       "    <tr>\n",
       "      <th>50%</th>\n",
       "      <td>3.132961</td>\n",
       "      <td>3.005000</td>\n",
       "      <td>10.216667</td>\n",
       "      <td>14.000000</td>\n",
       "      <td>0.032278</td>\n",
       "      <td>-2.866667</td>\n",
       "    </tr>\n",
       "    <tr>\n",
       "      <th>75%</th>\n",
       "      <td>3.184069</td>\n",
       "      <td>3.200000</td>\n",
       "      <td>10.645833</td>\n",
       "      <td>16.250000</td>\n",
       "      <td>0.190302</td>\n",
       "      <td>-0.616667</td>\n",
       "    </tr>\n",
       "    <tr>\n",
       "      <th>max</th>\n",
       "      <td>5.079722</td>\n",
       "      <td>6.700000</td>\n",
       "      <td>20.233333</td>\n",
       "      <td>27.000000</td>\n",
       "      <td>1.062344</td>\n",
       "      <td>5.016667</td>\n",
       "    </tr>\n",
       "  </tbody>\n",
       "</table>\n",
       "</div>"
      ],
      "text/plain": [
       "       gmaps_distance_mi  receipt_distance_mi  gmaps_duration_min  \\\n",
       "count          32.000000            32.000000           32.000000   \n",
       "mean            3.093329             3.098750           10.820312   \n",
       "std             0.726519             0.907971            2.861322   \n",
       "min             0.539973             0.600000            2.583333   \n",
       "25%             3.043328             2.822500            9.750000   \n",
       "50%             3.132961             3.005000           10.216667   \n",
       "75%             3.184069             3.200000           10.645833   \n",
       "max             5.079722             6.700000           20.233333   \n",
       "\n",
       "       receipt_duration_min  distance_diff_mi  duration_diff_min  \n",
       "count             32.000000         32.000000          32.000000  \n",
       "mean              14.062500         -0.005421          -3.242188  \n",
       "std                4.832267          0.464422           4.126071  \n",
       "min                2.000000         -1.620278         -12.183333  \n",
       "25%               11.750000         -0.132979          -5.254167  \n",
       "50%               14.000000          0.032278          -2.866667  \n",
       "75%               16.250000          0.190302          -0.616667  \n",
       "max               27.000000          1.062344           5.016667  "
      ]
     },
     "execution_count": 14,
     "metadata": {},
     "output_type": "execute_result"
    }
   ],
   "source": [
    "estimated_vs_actual_df = rides_df[['gmaps_distance_mi', 'receipt_distance_mi', 'gmaps_duration_min', 'receipt_duration_min']]\n",
    "estimated_vs_actual_df.loc[:, 'distance_diff_mi'] = (estimated_vs_actual_df.gmaps_distance_mi - estimated_vs_actual_df.receipt_distance_mi)\n",
    "estimated_vs_actual_df.loc[:, 'duration_diff_min'] = (estimated_vs_actual_df.gmaps_duration_min - estimated_vs_actual_df.receipt_duration_min)\n",
    "#estimated_vs_actual_df = estimated_vs_actual_df[['distance_diff_mi', 'duration_diff_min']]\n",
    "estimated_vs_actual_df.describe()"
   ]
  },
  {
   "cell_type": "markdown",
   "metadata": {},
   "source": [
    "__On average, Google Maps estimated the correct distance of the trip but tended to understimate the duration by about 3 minutes (off by ~20%).__\n",
    "This difference between Google's trip duration estimate and the actual duration is statistically significant (p < 0.05)"
   ]
  },
  {
   "cell_type": "code",
   "execution_count": 15,
   "metadata": {
    "collapsed": false
   },
   "outputs": [
    {
     "data": {
      "text/plain": [
       "<matplotlib.axes._subplots.AxesSubplot at 0x10bfade10>"
      ]
     },
     "execution_count": 15,
     "metadata": {},
     "output_type": "execute_result"
    },
    {
     "data": {
      "image/png": "[encoded data removed]",
      "text/plain": [
       "<matplotlib.figure.Figure at 0x10a4084d0>"
      ]
     },
     "metadata": {},
     "output_type": "display_data"
    }
   ],
   "source": [
    "# On average, Google Maps estimated the correct distance of the trip ... \n",
    "estimated_vs_actual_df.distance_diff_mi.hist()"
   ]
  },
  {
   "cell_type": "code",
   "execution_count": 16,
   "metadata": {
    "collapsed": false
   },
   "outputs": [
    {
     "data": {
      "text/plain": [
       "<matplotlib.axes._subplots.AxesSubplot at 0x10c151550>"
      ]
     },
     "execution_count": 16,
     "metadata": {},
     "output_type": "execute_result"
    },
    {
     "data": {
      "image/png": "[encoded data removed]",
      "text/plain": [
       "<matplotlib.figure.Figure at 0x10c174290>"
      ]
     },
     "metadata": {},
     "output_type": "display_data"
    }
   ],
   "source": [
    "# ... but tended to understimate the duration by about 3 minutes. \n",
    "estimated_vs_actual_df.duration_diff_min.hist()"
   ]
  },
  {
   "cell_type": "code",
   "execution_count": 17,
   "metadata": {
    "collapsed": false
   },
   "outputs": [
    {
     "data": {
      "text/plain": [
       "(-3.265850101905873, 0.0017799666954499845)"
      ]
     },
     "execution_count": 17,
     "metadata": {},
     "output_type": "execute_result"
    }
   ],
   "source": [
    "# Was this difference between Google's trip duration estimate and the actual duration statistically significant?\n",
    "ttest_ind(estimated_vs_actual_df.gmaps_duration_min, estimated_vs_actual_df.receipt_duration_min)\n",
    "\n",
    "# --> Yes: p < 0.05"
   ]
  },
  {
   "cell_type": "code",
   "execution_count": 18,
   "metadata": {
    "collapsed": false
   },
   "outputs": [],
   "source": [
    "# look at non-split, non-prime-time rides\n",
    "single_payer_non_prime_df = rides_df[(rides_df['is_split'] == False) & (rides_df['is_prime_time'] == False)]"
   ]
  },
  {
   "cell_type": "code",
   "execution_count": 20,
   "metadata": {
    "collapsed": false
   },
   "outputs": [],
   "source": [
    "# generate dimension representing the price paid before tip\n",
    "single_payer_non_prime_df.loc[:, 'price_paid_minus_tip'] = (single_payer_non_prime_df.price_paid - single_payer_non_prime_df.tip)"
   ]
  },
  {
   "cell_type": "markdown",
   "metadata": {},
   "source": [
    "__What is Lyft's pricing structure (base fee, price per mile, price per minute) based on my data?__\n",
    "* Used OLS regression to predict price_paid based on distance and duration\n",
    "* Result: \\$3.79 base, \\$0.88 per mile, \\$0.22 per minute\n",
    "* vs. Actual: \\$3.81 base, \\$0.90 per mile, \\$0.22 per minute [(as per 2/2/16 prices in Chicago)](https://www.lyft.com/cities/chicago)\n",
    "* Why does this not match up precisely? --> Pricing structure has varied over time. Price is also location dependent, and I've taken several rides in other cities (e.g. St. Louis, NYC), where the pricing structure is not the same.\n"
   ]
  },
  {
   "cell_type": "code",
   "execution_count": 21,
   "metadata": {
    "collapsed": false
   },
   "outputs": [
    {
     "name": "stdout",
     "output_type": "stream",
     "text": [
      "Intercept               3.794361\n",
      "receipt_distance_mi     0.878543\n",
      "receipt_duration_min    0.216429\n",
      "dtype: float64\n"
     ]
    }
   ],
   "source": [
    "ols_result = sm.ols(formula='price_paid_minus_tip ~ receipt_distance_mi + receipt_duration_min', data=single_payer_non_prime_df).fit()\n",
    "print ols_result.params"
   ]
  },
  {
   "cell_type": "code",
   "execution_count": 22,
   "metadata": {
    "collapsed": true
   },
   "outputs": [],
   "source": [
    "def scatter_regression(df, x_name, y_name, slack):\n",
    "    '''\n",
    "        Generate scatter plot of two-dimensional data. \n",
    "    '''\n",
    "    x_max = df[x_name].max() + slack\n",
    "    scatter = df[[x_name, y_name]].plot(x = x_name, y = y_name, kind = 'scatter', xlim = (0, x_max), ylim = (0))\n",
    "    ols_result = sm.ols(formula=y_name + \" ~ \" + x_name, data=df).fit()\n",
    "    print ols_result.params\n",
    "\n",
    "    #plot regression line\n",
    "    slope, intercept = ols_result.params[1], ols_result.params[0]\n",
    "    N = 2 # 2 points for straight line\n",
    "    points = np.linspace(x_max, 0, N)\n",
    "    plt.plot(points, slope * points + intercept)"
   ]
  },
  {
   "cell_type": "code",
   "execution_count": 23,
   "metadata": {
    "collapsed": false
   },
   "outputs": [
    {
     "name": "stdout",
     "output_type": "stream",
     "text": [
      "Intercept               5.851820\n",
      "receipt_duration_min    0.292822\n",
      "dtype: float64\n"
     ]
    },
    {
     "data": {
      "image/png": "[encoded data removed]",
      "text/plain": [
       "<matplotlib.figure.Figure at 0x10c030050>"
      ]
     },
     "metadata": {},
     "output_type": "display_data"
    }
   ],
   "source": [
    "# price by time in minutes\n",
    "scatter_regression(single_payer_non_prime_df, 'receipt_duration_min', 'price_paid', 2)"
   ]
  },
  {
   "cell_type": "markdown",
   "metadata": {
    "collapsed": true
   },
   "source": [
    "#Future Work\n",
    "* Incorporate Lyft Line (carpool)\n",
    "* Pull in Uber data. Compare Uber vs. Lyft"
   ]
  }
 ],
 "metadata": {
  "kernelspec": {
   "display_name": "Python 2",
   "language": "python",
   "name": "python2"
  },
  "language_info": {
   "codemirror_mode": {
    "name": "ipython",
    "version": 2
   },
   "file_extension": ".py",
   "mimetype": "text/x-python",
   "name": "python",
   "nbconvert_exporter": "python",
   "pygments_lexer": "ipython2",
   "version": "2.7.10"
  }
 },
 "nbformat": 4,
 "nbformat_minor": 0
}
